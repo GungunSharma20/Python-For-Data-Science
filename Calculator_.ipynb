{
  "nbformat": 4,
  "nbformat_minor": 0,
  "metadata": {
    "colab": {
      "provenance": []
    },
    "kernelspec": {
      "name": "python3",
      "display_name": "Python 3"
    },
    "language_info": {
      "name": "python"
    }
  },
  "cells": [
    {
      "cell_type": "markdown",
      "source": [
        "## **CALCULATOR**\n",
        "\n",
        "\n",
        "\n",
        "# Design a simple calculator with basic arithmetic operations.Prompt the user to input two numbers and an operation choice.Perform the calculation and display the result."
      ],
      "metadata": {
        "id": "xXWOEO9Sdb06"
      }
    },
    {
      "cell_type": "code",
      "source": [
        "# Function to add two number.\n",
        "def sum(a,b):\n",
        "  return a+b\n",
        "\n",
        "# Function to subtract two number.\n",
        "def subtract(a,b):\n",
        "  return a-b\n",
        "\n",
        "# Function to multiple two number.\n",
        "def multiple(a,b):\n",
        "  return a*b\n",
        "\n",
        "# Function to divide two number.\n",
        "def divide(a,b):\n",
        "  return a/b\n",
        "\n",
        "def calculator():\n",
        "  print(\"Select operation\")\n",
        "  print(\"A:-sum\")\n",
        "  print(\"B:-subtract\")\n",
        "  print(\"C:-multiple\")\n",
        "  print(\"D:-divide\")\n",
        "\n",
        "calculator()\n",
        "\n",
        "# user will take input\n",
        "choice=input(\"Enter youre choice\")\n",
        "\n",
        "if choice in (\"A\",\"B\",\"C\",\"D\"):\n",
        "  num1=int(input(\"Enter first number\"))\n",
        "  num2=int(input(\"Enter second number\"))\n",
        "\n",
        "# use calculator\n",
        "if choice==\"A\":\n",
        "  print(f\"{num1}+{num2}={sum(num1,num2)}\")\n",
        "  print('the answer is ',sum(num1,num2))\n",
        "elif choice==\"B\":\n",
        "  print(f\"{num1}-{num2}={subtract(num1,num2)}\")\n",
        "  print('the answer is ',subtract(num1,num2))\n",
        "elif choice==\"C\":\n",
        "  print(f\"{num1}*{num2}={multiple(num1,num2)}\")\n",
        "  print('the answer is ',multiple(num1,num2))\n",
        "elif choice==\"D\":\n",
        "  print(f\"{num1}={num2}={divide(num1,num2)}\")\n",
        "  print('the answer is ',divide(num1,num2))\n",
        "else:\n",
        "  print(\"Invalid choice!\")\n",
        "\n",
        "\n"
      ],
      "metadata": {
        "id": "Bt8jX9ICv0pu",
        "colab": {
          "base_uri": "https://localhost:8080/",
          "height": 0
        },
        "outputId": "d4d7b144-e9df-4eec-82b0-06e8e43fee40"
      },
      "execution_count": 2,
      "outputs": [
        {
          "output_type": "stream",
          "name": "stdout",
          "text": [
            "Select operation\n",
            "A:-sum\n",
            "B:-subtract\n",
            "C:-multiple\n",
            "D:-divide\n",
            "Enter youre choiceA\n",
            "Enter first number12\n",
            "Enter second number18\n",
            "12+18=30\n",
            "the answer is  30\n"
          ]
        }
      ]
    }
  ]
}